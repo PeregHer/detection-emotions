{
  "nbformat": 4,
  "nbformat_minor": 0,
  "metadata": {
    "kernelspec": {
      "display_name": "Python 3",
      "language": "python",
      "name": "python3"
    },
    "language_info": {
      "codemirror_mode": {
        "name": "ipython",
        "version": 3
      },
      "file_extension": ".py",
      "mimetype": "text/x-python",
      "name": "python",
      "nbconvert_exporter": "python",
      "pygments_lexer": "ipython3",
      "version": "3.8.3-final"
    },
    "colab": {
      "name": "model_notebook.ipynb",
      "provenance": [],
      "collapsed_sections": []
    },
    "accelerator": "GPU"
  },
  "cells": [
    {
      "cell_type": "code",
      "metadata": {
        "colab": {
          "base_uri": "https://localhost:8080/"
        },
        "id": "izacHJGiTbkd",
        "outputId": "aabf5a58-f904-4e90-ccf5-5c97c8127a24"
      },
      "source": [
        "from google.colab import drive\r\n",
        "drive.mount('/content/drive', force_remount=True)"
      ],
      "execution_count": 1,
      "outputs": [
        {
          "output_type": "stream",
          "text": [
            "Mounted at /content/drive\n"
          ],
          "name": "stdout"
        }
      ]
    },
    {
      "cell_type": "code",
      "metadata": {
        "colab": {
          "base_uri": "https://localhost:8080/"
        },
        "id": "VAWGKxJka4jM",
        "outputId": "68955049-bdff-4555-8092-c76f0e389534"
      },
      "source": [
        "%ls data"
      ],
      "execution_count": 2,
      "outputs": [
        {
          "output_type": "stream",
          "text": [
            "\u001b[0m\u001b[01;34mtest\u001b[0m/  \u001b[01;34mtrain\u001b[0m/\n"
          ],
          "name": "stdout"
        }
      ]
    },
    {
      "cell_type": "code",
      "metadata": {
        "id": "vq8RpF5maPpj"
      },
      "source": [
        "!cp 'drive/MyDrive/Projets/En cours/Emotions/data.zip' ."
      ],
      "execution_count": 3,
      "outputs": []
    },
    {
      "cell_type": "code",
      "metadata": {
        "colab": {
          "base_uri": "https://localhost:8080/"
        },
        "id": "2jEoZANfboj-",
        "outputId": "d81dab51-3103-4053-d64a-daa36df9e6ba"
      },
      "source": [
        "!unzip -q data.zip"
      ],
      "execution_count": 4,
      "outputs": [
        {
          "output_type": "stream",
          "text": [
            "replace data/test/angry/PrivateTest_10131363.jpg? [y]es, [n]o, [A]ll, [N]one, [r]ename: a\n",
            "error:  invalid response [a]\n",
            "replace data/test/angry/PrivateTest_10131363.jpg? [y]es, [n]o, [A]ll, [N]one, [r]ename: A\n"
          ],
          "name": "stdout"
        }
      ]
    },
    {
      "cell_type": "code",
      "metadata": {
        "id": "t6htetgrbw9F"
      },
      "source": [
        "!rm data.zip"
      ],
      "execution_count": 5,
      "outputs": []
    },
    {
      "cell_type": "code",
      "metadata": {
        "id": "D5o4aEAfTV9P"
      },
      "source": [
        "import tensorflow as tf\n",
        "import cv2\n",
        "import os\n",
        "from PIL import Image\n",
        "import numpy as np\n",
        "import pandas as pd\n",
        "import matplotlib.pyplot as plt\n",
        "import random"
      ],
      "execution_count": 6,
      "outputs": []
    },
    {
      "cell_type": "code",
      "metadata": {
        "id": "2CHh--O_TV9d"
      },
      "source": [
        "labels = {'angry': 0, 'disgust': 1, 'fear': 2, 'happy': 3, 'neutral': 4, 'sad': 5, 'surprise': 6}"
      ],
      "execution_count": 7,
      "outputs": []
    },
    {
      "cell_type": "code",
      "metadata": {
        "id": "EJswS9E2TV9i"
      },
      "source": [
        "def load_dataset(top_dir, label):\n",
        "    images = []\n",
        "    target = []\n",
        "    for root, dirs, files in os.walk(top_dir):\n",
        "        for name in files:  \n",
        "            try:\n",
        "                img = cv2.imread(os.path.join(root, name))\n",
        "                img = cv2.cvtColor(img, cv2.COLOR_BGR2GRAY)\n",
        "                img = cv2.resize(img, (48, 48))\n",
        "\n",
        "                images.append(img)\n",
        "                target.append(label)\n",
        "            except:\n",
        "                continue\n",
        "                \n",
        "    images = np.array(images) /255.0\n",
        "    images = np.reshape(images, (-1, 48, 48, 1))\n",
        "    target = np.array(target)\n",
        "    \n",
        "    return (images, target)"
      ],
      "execution_count": 38,
      "outputs": []
    },
    {
      "cell_type": "code",
      "metadata": {
        "id": "Qk_BX0pjTV9k"
      },
      "source": [
        "angry_test = load_dataset(\"data/test/angry\", 0)\n",
        "disgust_test = load_dataset(\"data/test/disgust\", 1)\n",
        "fear_test = load_dataset(\"data/test/fear\", 2)\n",
        "happy_test = load_dataset(\"data/test/happy\", 3)\n",
        "neutral_test = load_dataset(\"data/test/neutral\", 4)\n",
        "sad_test = load_dataset(\"data/test/sad\", 5)\n",
        "surprise_test = load_dataset(\"data/test/surprise\", 6)"
      ],
      "execution_count": 39,
      "outputs": []
    },
    {
      "cell_type": "code",
      "metadata": {
        "id": "cOE2khBITV9q"
      },
      "source": [
        "angry_train = load_dataset(\"data/train/angry\", 0)\n",
        "disgust_train = load_dataset(\"data/train/disgust\", 1)\n",
        "fear_train = load_dataset(\"data/train/fear\", 2)\n",
        "happy_train = load_dataset(\"data/train/happy\", 3)\n",
        "neutral_train = load_dataset(\"data/train/neutral\", 4)\n",
        "sad_train = load_dataset(\"data/train/sad\", 5)\n",
        "surprise_train = load_dataset(\"data/train/surprise\", 6)"
      ],
      "execution_count": 40,
      "outputs": []
    },
    {
      "cell_type": "code",
      "metadata": {
        "id": "9pXFIKpnTV9r",
        "colab": {
          "base_uri": "https://localhost:8080/"
        },
        "outputId": "6c1809e8-702a-4701-801e-aaa104be7393"
      },
      "source": [
        "surprise_test[0].shape"
      ],
      "execution_count": 37,
      "outputs": [
        {
          "output_type": "execute_result",
          "data": {
            "text/plain": [
              "(831, 48, 48, 1)"
            ]
          },
          "metadata": {
            "tags": []
          },
          "execution_count": 37
        }
      ]
    },
    {
      "cell_type": "code",
      "metadata": {
        "id": "owlbqHMjTV9w"
      },
      "source": [
        "# Create train set\n",
        "X_train = np.concatenate((angry_train[0], disgust_train[0], fear_train[0],\n",
        "happy_train[0], neutral_train[0], sad_train[0], surprise_train[0]), axis=0)\n",
        "y_train = np.concatenate((angry_train[1], disgust_train[1], fear_train[1],\n",
        "happy_train[1], neutral_train[1], sad_train[1], surprise_train[1]), axis=0)"
      ],
      "execution_count": 12,
      "outputs": []
    },
    {
      "cell_type": "code",
      "metadata": {
        "id": "bu8KT48FTV9y"
      },
      "source": [
        "# Create test set\n",
        "X_test = np.concatenate((angry_test[0], disgust_test[0], fear_test[0],\n",
        "happy_test[0], neutral_test[0], sad_test[0], surprise_test[0]), axis=0)\n",
        "y_test = np.concatenate((angry_test[1], disgust_test[1], fear_test[1],\n",
        "happy_test[1], neutral_test[1], sad_test[1], surprise_test[1]), axis=0)"
      ],
      "execution_count": 13,
      "outputs": []
    },
    {
      "cell_type": "code",
      "metadata": {
        "id": "F-xyq82jTV9z"
      },
      "source": [
        "model = tf.keras.models.Sequential()\n",
        "\n",
        "model.add(tf.keras.layers.Conv2D(64, 7, padding=\"same\", activation='relu', input_shape=(48,48,1)))\n",
        "model.add(tf.keras.layers.MaxPooling2D(2))\n",
        "model.add(tf.keras.layers.Dropout(0.5))\n",
        "model.add(tf.keras.layers.Conv2D(64, 3, padding=\"same\", activation='relu'))\n",
        "model.add(tf.keras.layers.MaxPooling2D(2))\n",
        "model.add(tf.keras.layers.Dropout(0.5))\n",
        "model.add(tf.keras.layers.Conv2D(128, 3, padding=\"same\", activation='relu'))\n",
        "model.add(tf.keras.layers.MaxPooling2D(2))\n",
        "model.add(tf.keras.layers.Dropout(0.5))\n",
        "model.add(tf.keras.layers.Flatten())\n",
        "model.add(tf.keras.layers.Dense(64, activation=\"relu\"))\n",
        "model.add(tf.keras.layers.Dropout(0.25))\n",
        "model.add(tf.keras.layers.Dense(32, activation=\"relu\"))\n",
        "model.add(tf.keras.layers.Dropout(0.25))\n",
        "model.add(tf.keras.layers.Dense(7, activation='softmax'))\n",
        "\n",
        "model.compile(optimizer=tf.keras.optimizers.Adamax(), loss='sparse_categorical_crossentropy', metrics=['accuracy'])"
      ],
      "execution_count": 17,
      "outputs": []
    },
    {
      "cell_type": "code",
      "metadata": {
        "id": "WVk-VjA3TV94",
        "colab": {
          "base_uri": "https://localhost:8080/"
        },
        "outputId": "9c866c4c-0f5b-4f0c-caba-1f6dd602c5b6"
      },
      "source": [
        "y_train"
      ],
      "execution_count": 18,
      "outputs": [
        {
          "output_type": "execute_result",
          "data": {
            "text/plain": [
              "array([0, 0, 0, ..., 6, 6, 6])"
            ]
          },
          "metadata": {
            "tags": []
          },
          "execution_count": 18
        }
      ]
    },
    {
      "cell_type": "code",
      "metadata": {
        "scrolled": false,
        "id": "Z543F2QwTV97",
        "colab": {
          "base_uri": "https://localhost:8080/"
        },
        "outputId": "c0d497e7-ae96-40bd-f6a6-9c299334565d"
      },
      "source": [
        "history = model.fit(X_train, y_train, epochs=100, batch_size=8, validation_data=(X_test, y_test))"
      ],
      "execution_count": 20,
      "outputs": [
        {
          "output_type": "stream",
          "text": [
            "Epoch 1/100\n",
            "3589/3589 [==============================] - 14s 4ms/step - loss: 1.8770 - accuracy: 0.2542 - val_loss: 1.7701 - val_accuracy: 0.2728\n",
            "Epoch 2/100\n",
            "3589/3589 [==============================] - 14s 4ms/step - loss: 1.7296 - accuracy: 0.3038 - val_loss: 1.6915 - val_accuracy: 0.3685\n",
            "Epoch 3/100\n",
            "3589/3589 [==============================] - 13s 4ms/step - loss: 1.6725 - accuracy: 0.3428 - val_loss: 1.6355 - val_accuracy: 0.3855\n",
            "Epoch 4/100\n",
            "3589/3589 [==============================] - 13s 4ms/step - loss: 1.6336 - accuracy: 0.3609 - val_loss: 1.5963 - val_accuracy: 0.4023\n",
            "Epoch 5/100\n",
            "3589/3589 [==============================] - 13s 4ms/step - loss: 1.6018 - accuracy: 0.3762 - val_loss: 1.5174 - val_accuracy: 0.4230\n",
            "Epoch 6/100\n",
            "3589/3589 [==============================] - 13s 4ms/step - loss: 1.5784 - accuracy: 0.3893 - val_loss: 1.5148 - val_accuracy: 0.4170\n",
            "Epoch 7/100\n",
            "3589/3589 [==============================] - 13s 4ms/step - loss: 1.5592 - accuracy: 0.3960 - val_loss: 1.4892 - val_accuracy: 0.4304\n",
            "Epoch 8/100\n",
            "3589/3589 [==============================] - 13s 4ms/step - loss: 1.5365 - accuracy: 0.4035 - val_loss: 1.4485 - val_accuracy: 0.4413\n",
            "Epoch 9/100\n",
            "3589/3589 [==============================] - 13s 4ms/step - loss: 1.5174 - accuracy: 0.4106 - val_loss: 1.4264 - val_accuracy: 0.4523\n",
            "Epoch 10/100\n",
            "3589/3589 [==============================] - 14s 4ms/step - loss: 1.5089 - accuracy: 0.4195 - val_loss: 1.4157 - val_accuracy: 0.4584\n",
            "Epoch 11/100\n",
            "3589/3589 [==============================] - 13s 4ms/step - loss: 1.4942 - accuracy: 0.4217 - val_loss: 1.4065 - val_accuracy: 0.4645\n",
            "Epoch 12/100\n",
            "3589/3589 [==============================] - 13s 4ms/step - loss: 1.4801 - accuracy: 0.4318 - val_loss: 1.3860 - val_accuracy: 0.4750\n",
            "Epoch 13/100\n",
            "3589/3589 [==============================] - 13s 4ms/step - loss: 1.4650 - accuracy: 0.4348 - val_loss: 1.3713 - val_accuracy: 0.4796\n",
            "Epoch 14/100\n",
            "3589/3589 [==============================] - 13s 4ms/step - loss: 1.4535 - accuracy: 0.4406 - val_loss: 1.3561 - val_accuracy: 0.4824\n",
            "Epoch 15/100\n",
            "3589/3589 [==============================] - 13s 4ms/step - loss: 1.4408 - accuracy: 0.4497 - val_loss: 1.3358 - val_accuracy: 0.4877\n",
            "Epoch 16/100\n",
            "3589/3589 [==============================] - 13s 4ms/step - loss: 1.4247 - accuracy: 0.4554 - val_loss: 1.3429 - val_accuracy: 0.4918\n",
            "Epoch 17/100\n",
            "3589/3589 [==============================] - 13s 4ms/step - loss: 1.4278 - accuracy: 0.4554 - val_loss: 1.3209 - val_accuracy: 0.4937\n",
            "Epoch 18/100\n",
            "3589/3589 [==============================] - 13s 4ms/step - loss: 1.4115 - accuracy: 0.4602 - val_loss: 1.3284 - val_accuracy: 0.4898\n",
            "Epoch 19/100\n",
            "3589/3589 [==============================] - 13s 4ms/step - loss: 1.4077 - accuracy: 0.4620 - val_loss: 1.2952 - val_accuracy: 0.5056\n",
            "Epoch 20/100\n",
            "3589/3589 [==============================] - 13s 4ms/step - loss: 1.3938 - accuracy: 0.4681 - val_loss: 1.2921 - val_accuracy: 0.5093\n",
            "Epoch 21/100\n",
            "3589/3589 [==============================] - 13s 4ms/step - loss: 1.3813 - accuracy: 0.4735 - val_loss: 1.2965 - val_accuracy: 0.5147\n",
            "Epoch 22/100\n",
            "3589/3589 [==============================] - 13s 4ms/step - loss: 1.3802 - accuracy: 0.4740 - val_loss: 1.2789 - val_accuracy: 0.5221\n",
            "Epoch 23/100\n",
            "3589/3589 [==============================] - 13s 4ms/step - loss: 1.3729 - accuracy: 0.4804 - val_loss: 1.2828 - val_accuracy: 0.5176\n",
            "Epoch 24/100\n",
            "3589/3589 [==============================] - 13s 4ms/step - loss: 1.3697 - accuracy: 0.4795 - val_loss: 1.2554 - val_accuracy: 0.5254\n",
            "Epoch 25/100\n",
            "3589/3589 [==============================] - 14s 4ms/step - loss: 1.3666 - accuracy: 0.4808 - val_loss: 1.2525 - val_accuracy: 0.5257\n",
            "Epoch 26/100\n",
            "3589/3589 [==============================] - 13s 4ms/step - loss: 1.3520 - accuracy: 0.4901 - val_loss: 1.2512 - val_accuracy: 0.5264\n",
            "Epoch 27/100\n",
            "3589/3589 [==============================] - 13s 4ms/step - loss: 1.3510 - accuracy: 0.4874 - val_loss: 1.2746 - val_accuracy: 0.5197\n",
            "Epoch 28/100\n",
            "3589/3589 [==============================] - 13s 4ms/step - loss: 1.3465 - accuracy: 0.4920 - val_loss: 1.2466 - val_accuracy: 0.5292\n",
            "Epoch 29/100\n",
            "3589/3589 [==============================] - 14s 4ms/step - loss: 1.3401 - accuracy: 0.4964 - val_loss: 1.2446 - val_accuracy: 0.5275\n",
            "Epoch 30/100\n",
            "3589/3589 [==============================] - 13s 4ms/step - loss: 1.3286 - accuracy: 0.4994 - val_loss: 1.2249 - val_accuracy: 0.5346\n",
            "Epoch 31/100\n",
            "3589/3589 [==============================] - 14s 4ms/step - loss: 1.3317 - accuracy: 0.4974 - val_loss: 1.2219 - val_accuracy: 0.5373\n",
            "Epoch 32/100\n",
            "3589/3589 [==============================] - 13s 4ms/step - loss: 1.3220 - accuracy: 0.5005 - val_loss: 1.2291 - val_accuracy: 0.5316\n",
            "Epoch 33/100\n",
            "3589/3589 [==============================] - 14s 4ms/step - loss: 1.3245 - accuracy: 0.4988 - val_loss: 1.2348 - val_accuracy: 0.5324\n",
            "Epoch 34/100\n",
            "3589/3589 [==============================] - 14s 4ms/step - loss: 1.3084 - accuracy: 0.5056 - val_loss: 1.2255 - val_accuracy: 0.5350\n",
            "Epoch 35/100\n",
            "3589/3589 [==============================] - 13s 4ms/step - loss: 1.3126 - accuracy: 0.5014 - val_loss: 1.2242 - val_accuracy: 0.5314\n",
            "Epoch 36/100\n",
            "3589/3589 [==============================] - 13s 4ms/step - loss: 1.2971 - accuracy: 0.5093 - val_loss: 1.2329 - val_accuracy: 0.5316\n",
            "Epoch 37/100\n",
            "3589/3589 [==============================] - 13s 4ms/step - loss: 1.2994 - accuracy: 0.5087 - val_loss: 1.2060 - val_accuracy: 0.5424\n",
            "Epoch 38/100\n",
            "3589/3589 [==============================] - 13s 4ms/step - loss: 1.2903 - accuracy: 0.5141 - val_loss: 1.2152 - val_accuracy: 0.5460\n",
            "Epoch 39/100\n",
            "3589/3589 [==============================] - 13s 4ms/step - loss: 1.2928 - accuracy: 0.5106 - val_loss: 1.2323 - val_accuracy: 0.5316\n",
            "Epoch 40/100\n",
            "3589/3589 [==============================] - 13s 4ms/step - loss: 1.2858 - accuracy: 0.5128 - val_loss: 1.2023 - val_accuracy: 0.5423\n",
            "Epoch 41/100\n",
            "3589/3589 [==============================] - 13s 4ms/step - loss: 1.2861 - accuracy: 0.5179 - val_loss: 1.2134 - val_accuracy: 0.5437\n",
            "Epoch 42/100\n",
            "3589/3589 [==============================] - 13s 4ms/step - loss: 1.2803 - accuracy: 0.5152 - val_loss: 1.1958 - val_accuracy: 0.5472\n",
            "Epoch 43/100\n",
            "3589/3589 [==============================] - 14s 4ms/step - loss: 1.2774 - accuracy: 0.5212 - val_loss: 1.1812 - val_accuracy: 0.5497\n",
            "Epoch 44/100\n",
            "3589/3589 [==============================] - 14s 4ms/step - loss: 1.2680 - accuracy: 0.5220 - val_loss: 1.1782 - val_accuracy: 0.5512\n",
            "Epoch 45/100\n",
            "3589/3589 [==============================] - 13s 4ms/step - loss: 1.2774 - accuracy: 0.5173 - val_loss: 1.1854 - val_accuracy: 0.5502\n",
            "Epoch 46/100\n",
            "3589/3589 [==============================] - 14s 4ms/step - loss: 1.2542 - accuracy: 0.5274 - val_loss: 1.1734 - val_accuracy: 0.5534\n",
            "Epoch 47/100\n",
            "3589/3589 [==============================] - 13s 4ms/step - loss: 1.2525 - accuracy: 0.5278 - val_loss: 1.1900 - val_accuracy: 0.5480\n",
            "Epoch 48/100\n",
            "3589/3589 [==============================] - 14s 4ms/step - loss: 1.2497 - accuracy: 0.5269 - val_loss: 1.1766 - val_accuracy: 0.5522\n",
            "Epoch 49/100\n",
            "3589/3589 [==============================] - 14s 4ms/step - loss: 1.2487 - accuracy: 0.5307 - val_loss: 1.1734 - val_accuracy: 0.5550\n",
            "Epoch 50/100\n",
            "3589/3589 [==============================] - 14s 4ms/step - loss: 1.2462 - accuracy: 0.5337 - val_loss: 1.1611 - val_accuracy: 0.5585\n",
            "Epoch 51/100\n",
            "3589/3589 [==============================] - 14s 4ms/step - loss: 1.2400 - accuracy: 0.5323 - val_loss: 1.1829 - val_accuracy: 0.5508\n",
            "Epoch 52/100\n",
            "3589/3589 [==============================] - 14s 4ms/step - loss: 1.2393 - accuracy: 0.5335 - val_loss: 1.2478 - val_accuracy: 0.5323\n",
            "Epoch 53/100\n",
            "3589/3589 [==============================] - 14s 4ms/step - loss: 1.2427 - accuracy: 0.5346 - val_loss: 1.1803 - val_accuracy: 0.5532\n",
            "Epoch 54/100\n",
            "3589/3589 [==============================] - 14s 4ms/step - loss: 1.2350 - accuracy: 0.5339 - val_loss: 1.1589 - val_accuracy: 0.5618\n",
            "Epoch 55/100\n",
            "3589/3589 [==============================] - 14s 4ms/step - loss: 1.2309 - accuracy: 0.5398 - val_loss: 1.1784 - val_accuracy: 0.5534\n",
            "Epoch 56/100\n",
            "3589/3589 [==============================] - 14s 4ms/step - loss: 1.2308 - accuracy: 0.5377 - val_loss: 1.1621 - val_accuracy: 0.5545\n",
            "Epoch 57/100\n",
            "3589/3589 [==============================] - 14s 4ms/step - loss: 1.2192 - accuracy: 0.5409 - val_loss: 1.1587 - val_accuracy: 0.5632\n",
            "Epoch 58/100\n",
            "3589/3589 [==============================] - 14s 4ms/step - loss: 1.2259 - accuracy: 0.5398 - val_loss: 1.1521 - val_accuracy: 0.5643\n",
            "Epoch 59/100\n",
            "3589/3589 [==============================] - 14s 4ms/step - loss: 1.2183 - accuracy: 0.5430 - val_loss: 1.1701 - val_accuracy: 0.5629\n",
            "Epoch 60/100\n",
            "3589/3589 [==============================] - 14s 4ms/step - loss: 1.2197 - accuracy: 0.5447 - val_loss: 1.1534 - val_accuracy: 0.5589\n",
            "Epoch 61/100\n",
            "3589/3589 [==============================] - 14s 4ms/step - loss: 1.2169 - accuracy: 0.5428 - val_loss: 1.1463 - val_accuracy: 0.5617\n",
            "Epoch 62/100\n",
            "3589/3589 [==============================] - 14s 4ms/step - loss: 1.2155 - accuracy: 0.5421 - val_loss: 1.1423 - val_accuracy: 0.5653\n",
            "Epoch 63/100\n",
            "3589/3589 [==============================] - 14s 4ms/step - loss: 1.2061 - accuracy: 0.5446 - val_loss: 1.1396 - val_accuracy: 0.5679\n",
            "Epoch 64/100\n",
            "3589/3589 [==============================] - 14s 4ms/step - loss: 1.2027 - accuracy: 0.5500 - val_loss: 1.1519 - val_accuracy: 0.5654\n",
            "Epoch 65/100\n",
            "3589/3589 [==============================] - 14s 4ms/step - loss: 1.2071 - accuracy: 0.5489 - val_loss: 1.1410 - val_accuracy: 0.5676\n",
            "Epoch 66/100\n",
            "3589/3589 [==============================] - 14s 4ms/step - loss: 1.2052 - accuracy: 0.5493 - val_loss: 1.1638 - val_accuracy: 0.5586\n",
            "Epoch 67/100\n",
            "3589/3589 [==============================] - 14s 4ms/step - loss: 1.2016 - accuracy: 0.5529 - val_loss: 1.1343 - val_accuracy: 0.5711\n",
            "Epoch 68/100\n",
            "3589/3589 [==============================] - 14s 4ms/step - loss: 1.1930 - accuracy: 0.5510 - val_loss: 1.1474 - val_accuracy: 0.5725\n",
            "Epoch 69/100\n",
            "3589/3589 [==============================] - 14s 4ms/step - loss: 1.1930 - accuracy: 0.5557 - val_loss: 1.1373 - val_accuracy: 0.5703\n",
            "Epoch 70/100\n",
            "3589/3589 [==============================] - 14s 4ms/step - loss: 1.1885 - accuracy: 0.5560 - val_loss: 1.1462 - val_accuracy: 0.5654\n",
            "Epoch 71/100\n",
            "3589/3589 [==============================] - 14s 4ms/step - loss: 1.1926 - accuracy: 0.5512 - val_loss: 1.1392 - val_accuracy: 0.5717\n",
            "Epoch 72/100\n",
            "3589/3589 [==============================] - 13s 4ms/step - loss: 1.1865 - accuracy: 0.5574 - val_loss: 1.1390 - val_accuracy: 0.5753\n",
            "Epoch 73/100\n",
            "3589/3589 [==============================] - 14s 4ms/step - loss: 1.1889 - accuracy: 0.5533 - val_loss: 1.1418 - val_accuracy: 0.5734\n",
            "Epoch 74/100\n",
            "3589/3589 [==============================] - 14s 4ms/step - loss: 1.1812 - accuracy: 0.5605 - val_loss: 1.1249 - val_accuracy: 0.5756\n",
            "Epoch 75/100\n",
            "3589/3589 [==============================] - 13s 4ms/step - loss: 1.1788 - accuracy: 0.5611 - val_loss: 1.1353 - val_accuracy: 0.5686\n",
            "Epoch 76/100\n",
            "3589/3589 [==============================] - 14s 4ms/step - loss: 1.1811 - accuracy: 0.5603 - val_loss: 1.1177 - val_accuracy: 0.5774\n",
            "Epoch 77/100\n",
            "3589/3589 [==============================] - 14s 4ms/step - loss: 1.1661 - accuracy: 0.5643 - val_loss: 1.1163 - val_accuracy: 0.5807\n",
            "Epoch 78/100\n",
            "3589/3589 [==============================] - 14s 4ms/step - loss: 1.1735 - accuracy: 0.5602 - val_loss: 1.1340 - val_accuracy: 0.5742\n",
            "Epoch 79/100\n",
            "3589/3589 [==============================] - 14s 4ms/step - loss: 1.1727 - accuracy: 0.5607 - val_loss: 1.1161 - val_accuracy: 0.5795\n",
            "Epoch 80/100\n",
            "3589/3589 [==============================] - 14s 4ms/step - loss: 1.1694 - accuracy: 0.5635 - val_loss: 1.1258 - val_accuracy: 0.5718\n",
            "Epoch 81/100\n",
            "3589/3589 [==============================] - 14s 4ms/step - loss: 1.1684 - accuracy: 0.5632 - val_loss: 1.1171 - val_accuracy: 0.5800\n",
            "Epoch 82/100\n",
            "3589/3589 [==============================] - 14s 4ms/step - loss: 1.1644 - accuracy: 0.5634 - val_loss: 1.1549 - val_accuracy: 0.5596\n",
            "Epoch 83/100\n",
            "3589/3589 [==============================] - 13s 4ms/step - loss: 1.1639 - accuracy: 0.5662 - val_loss: 1.1148 - val_accuracy: 0.5812\n",
            "Epoch 84/100\n",
            "3589/3589 [==============================] - 13s 4ms/step - loss: 1.1577 - accuracy: 0.5693 - val_loss: 1.1244 - val_accuracy: 0.5746\n",
            "Epoch 85/100\n",
            "3589/3589 [==============================] - 14s 4ms/step - loss: 1.1551 - accuracy: 0.5690 - val_loss: 1.1166 - val_accuracy: 0.5775\n",
            "Epoch 86/100\n",
            "3589/3589 [==============================] - 14s 4ms/step - loss: 1.1587 - accuracy: 0.5685 - val_loss: 1.1275 - val_accuracy: 0.5780\n",
            "Epoch 87/100\n",
            "3589/3589 [==============================] - 14s 4ms/step - loss: 1.1602 - accuracy: 0.5678 - val_loss: 1.1075 - val_accuracy: 0.5853\n",
            "Epoch 88/100\n",
            "3589/3589 [==============================] - 13s 4ms/step - loss: 1.1556 - accuracy: 0.5651 - val_loss: 1.1179 - val_accuracy: 0.5810\n",
            "Epoch 89/100\n",
            "3589/3589 [==============================] - 14s 4ms/step - loss: 1.1458 - accuracy: 0.5724 - val_loss: 1.1109 - val_accuracy: 0.5814\n",
            "Epoch 90/100\n",
            "3589/3589 [==============================] - 14s 4ms/step - loss: 1.1559 - accuracy: 0.5702 - val_loss: 1.1089 - val_accuracy: 0.5842\n",
            "Epoch 91/100\n",
            "3589/3589 [==============================] - 14s 4ms/step - loss: 1.1396 - accuracy: 0.5751 - val_loss: 1.1094 - val_accuracy: 0.5845\n",
            "Epoch 92/100\n",
            "3589/3589 [==============================] - 14s 4ms/step - loss: 1.1416 - accuracy: 0.5721 - val_loss: 1.1044 - val_accuracy: 0.5839\n",
            "Epoch 93/100\n",
            "3589/3589 [==============================] - 14s 4ms/step - loss: 1.1487 - accuracy: 0.5710 - val_loss: 1.1105 - val_accuracy: 0.5788\n",
            "Epoch 94/100\n",
            "3589/3589 [==============================] - 14s 4ms/step - loss: 1.1434 - accuracy: 0.5751 - val_loss: 1.1039 - val_accuracy: 0.5862\n",
            "Epoch 95/100\n",
            "3589/3589 [==============================] - 14s 4ms/step - loss: 1.1341 - accuracy: 0.5775 - val_loss: 1.1125 - val_accuracy: 0.5848\n",
            "Epoch 96/100\n",
            "3589/3589 [==============================] - 14s 4ms/step - loss: 1.1400 - accuracy: 0.5776 - val_loss: 1.1046 - val_accuracy: 0.5897\n",
            "Epoch 97/100\n",
            "3589/3589 [==============================] - 14s 4ms/step - loss: 1.1358 - accuracy: 0.5749 - val_loss: 1.1086 - val_accuracy: 0.5876\n",
            "Epoch 98/100\n",
            "3589/3589 [==============================] - 14s 4ms/step - loss: 1.1386 - accuracy: 0.5725 - val_loss: 1.1114 - val_accuracy: 0.5823\n",
            "Epoch 99/100\n",
            "3589/3589 [==============================] - 14s 4ms/step - loss: 1.1335 - accuracy: 0.5750 - val_loss: 1.1163 - val_accuracy: 0.5782\n",
            "Epoch 100/100\n",
            "3589/3589 [==============================] - 14s 4ms/step - loss: 1.1315 - accuracy: 0.5794 - val_loss: 1.1008 - val_accuracy: 0.5898\n"
          ],
          "name": "stdout"
        }
      ]
    },
    {
      "cell_type": "code",
      "metadata": {
        "scrolled": true,
        "id": "2Fj5JKDpTV-B",
        "colab": {
          "base_uri": "https://localhost:8080/"
        },
        "outputId": "aa6b0ab2-562e-4825-9eaa-9777cf54410f"
      },
      "source": [
        "y_pred = model.predict_classes(X_test)"
      ],
      "execution_count": 21,
      "outputs": [
        {
          "output_type": "stream",
          "text": [
            "/usr/local/lib/python3.7/dist-packages/tensorflow/python/keras/engine/sequential.py:450: UserWarning: `model.predict_classes()` is deprecated and will be removed after 2021-01-01. Please use instead:* `np.argmax(model.predict(x), axis=-1)`,   if your model does multi-class classification   (e.g. if it uses a `softmax` last-layer activation).* `(model.predict(x) > 0.5).astype(\"int32\")`,   if your model does binary classification   (e.g. if it uses a `sigmoid` last-layer activation).\n",
            "  warnings.warn('`model.predict_classes()` is deprecated and '\n"
          ],
          "name": "stderr"
        }
      ]
    },
    {
      "cell_type": "code",
      "metadata": {
        "id": "pUljYhCATV-B",
        "colab": {
          "base_uri": "https://localhost:8080/",
          "height": 543
        },
        "outputId": "9881f2ce-1894-473e-c028-b3270b8d080d"
      },
      "source": [
        "# Afficher la matrice de confusion de cette prédiction\n",
        "import seaborn as sns\n",
        "from sklearn.metrics import confusion_matrix\n",
        "\n",
        "cm = confusion_matrix(y_test, y_pred)\n",
        "\n",
        "plt.figure(figsize=(9,9))\n",
        "sns.heatmap(cm, annot=True, fmt=\".0f\", linewidths=.5, square = True, cmap = 'mako', annot_kws={\"fontsize\":20})\n",
        "plt.ylabel('Actual label')\n",
        "plt.xlabel('Predicted label')\n",
        "plt.title(\"Matrice de confusion\", size = 15)"
      ],
      "execution_count": 22,
      "outputs": [
        {
          "output_type": "execute_result",
          "data": {
            "text/plain": [
              "Text(0.5, 1.0, 'Matrice de confusion')"
            ]
          },
          "metadata": {
            "tags": []
          },
          "execution_count": 22
        },
        {
          "output_type": "display_data",
          "data": {
            "image/png": "[encoded data removed]",
            "text/plain": [
              "<Figure size 648x648 with 2 Axes>"
            ]
          },
          "metadata": {
            "tags": [],
            "needs_background": "light"
          }
        }
      ]
    },
    {
      "cell_type": "code",
      "metadata": {
        "id": "KYICxy7FTV-D",
        "colab": {
          "base_uri": "https://localhost:8080/"
        },
        "outputId": "1f06acf7-5403-41c9-fd04-5c31f418d27c"
      },
      "source": [
        "model.save('emotions_detection')"
      ],
      "execution_count": 23,
      "outputs": [
        {
          "output_type": "stream",
          "text": [
            "INFO:tensorflow:Assets written to: emotions_detection/assets\n"
          ],
          "name": "stdout"
        }
      ]
    },
    {
      "cell_type": "code",
      "metadata": {
        "id": "1NgB4pEWirwJ"
      },
      "source": [
        "model.compile(optimizer=tf.keras.optimizers.Adamax(learning_rate=0.00001, beta_1=0.97, beta_2=0.97, epsilon=1e-07), loss='sparse_categorical_crossentropy', metrics=['accuracy'])"
      ],
      "execution_count": 25,
      "outputs": []
    },
    {
      "cell_type": "code",
      "metadata": {
        "colab": {
          "base_uri": "https://localhost:8080/"
        },
        "id": "lF-ve17xi2gx",
        "outputId": "4d2d667b-8067-4e1f-e09d-4e191ede21fc"
      },
      "source": [
        "history2 = model.fit(X_train, y_train, epochs=1, batch_size=5, validation_data=(X_train, y_train))"
      ],
      "execution_count": 27,
      "outputs": [
        {
          "output_type": "stream",
          "text": [
            "5742/5742 [==============================] - 30s 5ms/step - loss: 1.1145 - accuracy: 0.5888 - val_loss: 0.8609 - val_accuracy: 0.6950\n"
          ],
          "name": "stdout"
        }
      ]
    },
    {
      "cell_type": "code",
      "metadata": {
        "colab": {
          "base_uri": "https://localhost:8080/"
        },
        "id": "2w6g4Y_IoBpd",
        "outputId": "099491f8-1126-476c-f93c-83ed73585886"
      },
      "source": [
        "model.save('emotions_detection_2')"
      ],
      "execution_count": 28,
      "outputs": [
        {
          "output_type": "stream",
          "text": [
            "INFO:tensorflow:Assets written to: emotions_detection_2/assets\n"
          ],
          "name": "stdout"
        }
      ]
    },
    {
      "cell_type": "code",
      "metadata": {
        "colab": {
          "base_uri": "https://localhost:8080/"
        },
        "id": "Sjlp-orSoeE_",
        "outputId": "b679c8d6-b4cc-4780-fecc-0276d717f668"
      },
      "source": [
        "!zip -r /content/emotions_detection.zip /content/emotions_detection"
      ],
      "execution_count": 31,
      "outputs": [
        {
          "output_type": "stream",
          "text": [
            "  adding: content/emotions_detection/ (stored 0%)\n",
            "  adding: content/emotions_detection/variables/ (stored 0%)\n",
            "  adding: content/emotions_detection/variables/variables.data-00000-of-00001 (deflated 12%)\n",
            "  adding: content/emotions_detection/variables/variables.index (deflated 67%)\n",
            "  adding: content/emotions_detection/assets/ (stored 0%)\n",
            "  adding: content/emotions_detection/saved_model.pb (deflated 90%)\n"
          ],
          "name": "stdout"
        }
      ]
    },
    {
      "cell_type": "code",
      "metadata": {
        "colab": {
          "base_uri": "https://localhost:8080/",
          "height": 17
        },
        "id": "FJn9DuP_oSmL",
        "outputId": "98fb085b-b2fa-46de-9296-f3866af2b7a0"
      },
      "source": [
        "from google.colab import files\r\n",
        "files.download(\"/content/emotions_detection.zip\")"
      ],
      "execution_count": 32,
      "outputs": [
        {
          "output_type": "display_data",
          "data": {
            "application/javascript": [
              "\n",
              "    async function download(id, filename, size) {\n",
              "      if (!google.colab.kernel.accessAllowed) {\n",
              "        return;\n",
              "      }\n",
              "      const div = document.createElement('div');\n",
              "      const label = document.createElement('label');\n",
              "      label.textContent = `Downloading \"${filename}\": `;\n",
              "      div.appendChild(label);\n",
              "      const progress = document.createElement('progress');\n",
              "      progress.max = size;\n",
              "      div.appendChild(progress);\n",
              "      document.body.appendChild(div);\n",
              "\n",
              "      const buffers = [];\n",
              "      let downloaded = 0;\n",
              "\n",
              "      const channel = await google.colab.kernel.comms.open(id);\n",
              "      // Send a message to notify the kernel that we're ready.\n",
              "      channel.send({})\n",
              "\n",
              "      for await (const message of channel.messages) {\n",
              "        // Send a message to notify the kernel that we're ready.\n",
              "        channel.send({})\n",
              "        if (message.buffers) {\n",
              "          for (const buffer of message.buffers) {\n",
              "            buffers.push(buffer);\n",
              "            downloaded += buffer.byteLength;\n",
              "            progress.value = downloaded;\n",
              "          }\n",
              "        }\n",
              "      }\n",
              "      const blob = new Blob(buffers, {type: 'application/binary'});\n",
              "      const a = document.createElement('a');\n",
              "      a.href = window.URL.createObjectURL(blob);\n",
              "      a.download = filename;\n",
              "      div.appendChild(a);\n",
              "      a.click();\n",
              "      div.remove();\n",
              "    }\n",
              "  "
            ],
            "text/plain": [
              "<IPython.core.display.Javascript object>"
            ]
          },
          "metadata": {
            "tags": []
          }
        },
        {
          "output_type": "display_data",
          "data": {
            "application/javascript": [
              "download(\"download_2201d9bf-fe1b-4eed-9911-68213739b5e3\", \"emotions_detection.zip\", 4399692)"
            ],
            "text/plain": [
              "<IPython.core.display.Javascript object>"
            ]
          },
          "metadata": {
            "tags": []
          }
        }
      ]
    },
    {
      "cell_type": "code",
      "metadata": {
        "colab": {
          "base_uri": "https://localhost:8080/"
        },
        "id": "7EPpbHpcorfu",
        "outputId": "a6f386e9-9bc5-4683-f7e1-970cb6abd321"
      },
      "source": [
        "!zip -r /content/emotions_detection_2.zip /content/emotions_detection_2"
      ],
      "execution_count": 33,
      "outputs": [
        {
          "output_type": "stream",
          "text": [
            "  adding: content/emotions_detection_2/ (stored 0%)\n",
            "  adding: content/emotions_detection_2/variables/ (stored 0%)\n",
            "  adding: content/emotions_detection_2/variables/variables.data-00000-of-00001 (deflated 12%)\n",
            "  adding: content/emotions_detection_2/variables/variables.index (deflated 67%)\n",
            "  adding: content/emotions_detection_2/assets/ (stored 0%)\n",
            "  adding: content/emotions_detection_2/saved_model.pb (deflated 90%)\n"
          ],
          "name": "stdout"
        }
      ]
    },
    {
      "cell_type": "code",
      "metadata": {
        "colab": {
          "base_uri": "https://localhost:8080/",
          "height": 17
        },
        "id": "tSQSeXm6oujt",
        "outputId": "9fcf272a-03cf-42d0-819d-046f5eef54de"
      },
      "source": [
        "from google.colab import files\r\n",
        "files.download(\"/content/emotions_detection_2.zip\")"
      ],
      "execution_count": 34,
      "outputs": [
        {
          "output_type": "display_data",
          "data": {
            "application/javascript": [
              "\n",
              "    async function download(id, filename, size) {\n",
              "      if (!google.colab.kernel.accessAllowed) {\n",
              "        return;\n",
              "      }\n",
              "      const div = document.createElement('div');\n",
              "      const label = document.createElement('label');\n",
              "      label.textContent = `Downloading \"${filename}\": `;\n",
              "      div.appendChild(label);\n",
              "      const progress = document.createElement('progress');\n",
              "      progress.max = size;\n",
              "      div.appendChild(progress);\n",
              "      document.body.appendChild(div);\n",
              "\n",
              "      const buffers = [];\n",
              "      let downloaded = 0;\n",
              "\n",
              "      const channel = await google.colab.kernel.comms.open(id);\n",
              "      // Send a message to notify the kernel that we're ready.\n",
              "      channel.send({})\n",
              "\n",
              "      for await (const message of channel.messages) {\n",
              "        // Send a message to notify the kernel that we're ready.\n",
              "        channel.send({})\n",
              "        if (message.buffers) {\n",
              "          for (const buffer of message.buffers) {\n",
              "            buffers.push(buffer);\n",
              "            downloaded += buffer.byteLength;\n",
              "            progress.value = downloaded;\n",
              "          }\n",
              "        }\n",
              "      }\n",
              "      const blob = new Blob(buffers, {type: 'application/binary'});\n",
              "      const a = document.createElement('a');\n",
              "      a.href = window.URL.createObjectURL(blob);\n",
              "      a.download = filename;\n",
              "      div.appendChild(a);\n",
              "      a.click();\n",
              "      div.remove();\n",
              "    }\n",
              "  "
            ],
            "text/plain": [
              "<IPython.core.display.Javascript object>"
            ]
          },
          "metadata": {
            "tags": []
          }
        },
        {
          "output_type": "display_data",
          "data": {
            "application/javascript": [
              "download(\"download_de92bfd6-47ae-4a66-bd89-c3e115a42770\", \"emotions_detection_2.zip\", 4382951)"
            ],
            "text/plain": [
              "<IPython.core.display.Javascript object>"
            ]
          },
          "metadata": {
            "tags": []
          }
        }
      ]
    },
    {
      "cell_type": "code",
      "metadata": {
        "colab": {
          "base_uri": "https://localhost:8080/",
          "height": 597
        },
        "id": "nVhfgv7wpJFJ",
        "outputId": "ccd61428-4a0a-4677-c12c-a58ef26dbf23"
      },
      "source": [
        "y_pred = model.predict_classes(X_test)\r\n",
        "# Afficher la matrice de confusion de cette prédiction\r\n",
        "import seaborn as sns\r\n",
        "from sklearn.metrics import confusion_matrix\r\n",
        "\r\n",
        "cm = confusion_matrix(y_test, y_pred)\r\n",
        "\r\n",
        "plt.figure(figsize=(9,9))\r\n",
        "sns.heatmap(cm, annot=True, fmt=\".0f\", linewidths=.5, square = True, cmap = 'mako', annot_kws={\"fontsize\":20})\r\n",
        "plt.ylabel('Actual label')\r\n",
        "plt.xlabel('Predicted label')\r\n",
        "plt.title(\"Matrice de confusion\", size = 15)"
      ],
      "execution_count": 35,
      "outputs": [
        {
          "output_type": "stream",
          "text": [
            "/usr/local/lib/python3.7/dist-packages/tensorflow/python/keras/engine/sequential.py:450: UserWarning: `model.predict_classes()` is deprecated and will be removed after 2021-01-01. Please use instead:* `np.argmax(model.predict(x), axis=-1)`,   if your model does multi-class classification   (e.g. if it uses a `softmax` last-layer activation).* `(model.predict(x) > 0.5).astype(\"int32\")`,   if your model does binary classification   (e.g. if it uses a `sigmoid` last-layer activation).\n",
            "  warnings.warn('`model.predict_classes()` is deprecated and '\n"
          ],
          "name": "stderr"
        },
        {
          "output_type": "execute_result",
          "data": {
            "text/plain": [
              "Text(0.5, 1.0, 'Matrice de confusion')"
            ]
          },
          "metadata": {
            "tags": []
          },
          "execution_count": 35
        },
        {
          "output_type": "display_data",
          "data": {
            "image/png": "[encoded data removed]",
            "text/plain": [
              "<Figure size 648x648 with 2 Axes>"
            ]
          },
          "metadata": {
            "tags": [],
            "needs_background": "light"
          }
        }
      ]
    }
  ]
}